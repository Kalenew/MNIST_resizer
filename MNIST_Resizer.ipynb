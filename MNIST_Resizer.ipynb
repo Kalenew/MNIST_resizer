{
 "cells": [
  {
   "cell_type": "code",
   "execution_count": 1,
   "metadata": {},
   "outputs": [],
   "source": [
    "import tensorflow as tf\n",
    "from tensorflow.keras.datasets import mnist\n",
    "from matplotlib import pyplot as plt\n",
    "import random\n",
    "import numpy as np\n",
    "import cv2"
   ]
  },
  {
   "cell_type": "code",
   "execution_count": 2,
   "metadata": {},
   "outputs": [],
   "source": [
    "(X_train, Y_train), (X_test, Y_test) = mnist.load_data()"
   ]
  },
  {
   "cell_type": "code",
   "execution_count": 3,
   "metadata": {},
   "outputs": [],
   "source": [
    "In_names = \"x_in1\"\t\"x_in2\"\t\"x_in3\"\t\"x_in4\"\t\"x_in5\"\t\"x_in6\"\t\"x_in7\"\t\"x_in8\"\t\"x_in9\"\t\"x_in10\"\t\"x_in11\"\t\"x_in12\"\t\"x_in13\"\t\"x_in14\"\t\"x_in15\"\t\"x_in16\"\t\"x_in17\"\t\"x_in18\"\t\"x_in19\"\t\"x_in20\"\t\"x_in21\"\t\"x_in22\"\t\"x_in23\"\t\"x_in24\"\t\"x_in25\"\t\"x_in26\"\t\"x_in27\"\t\"x_in28\"\t\"x_in29\"\t\"x_in30\"\t\"x_in31\"\t\"x_in32\"\t\"x_in33\"\t\"x_in34\"\t\"x_in35\"\t\"x_in36\"\t\"x_in37\"\t\"x_in38\"\t\"x_in39\"\t\"x_in40\"\t\"x_in41\"\t\"x_in42\"\t\"x_in43\"\t\"x_in44\"\t\"x_in45\"\t\"x_in46\"\t\"x_in47\"\t\"x_in48\"\t\"x_in49\"\t\"x_in50\"\t\"x_in51\"\t\"x_in52\"\t\"x_in53\"\t\"x_in54\"\t\"x_in55\"\t\"x_in56\"\t\"x_in57\"\t\"x_in58\"\t\"x_in59\"\t\"x_in60\"\t\"x_in61\"\t\"x_in62\"\t\"x_in63\"\t\"x_in64\"\t\"x_in65\"\t\"x_in66\"\t\"x_in67\"\t\"x_in68\"\t\"x_in69\"\t\"x_in70\"\t\"x_in71\"\t\"x_in72\"\t\"x_in73\"\t\"x_in74\"\t\"x_in75\"\t\"x_in76\"\t\"x_in77\"\t\"x_in78\"\t\"x_in79\"\t\"x_in80\"\t\"x_in81\"\t\"x_in82\"\t\"x_in83\"\t\"x_in84\"\t\"x_in85\"\t\"x_in86\"\t\"x_in87\"\t\"x_in88\"\t\"x_in89\"\t\"x_in90\"\t\"x_in91\"\t\"x_in92\"\t\"x_in93\"\t\"x_in94\"\t\"x_in95\"\t\"x_in96\"\t\"x_in97\"\t\"x_in98\"\t\"x_in99\"\t\"x_in100\"\t\"x_in101\"\t\"x_in102\"\t\"x_in103\"\t\"x_in104\"\t\"x_in105\"\t\"x_in106\"\t\"x_in107\"\t\"x_in108\"\t\"x_in109\"\t\"x_in110\"\t\"x_in111\"\t\"x_in112\"\t\"x_in113\"\t\"x_in114\"\t\"x_in115\"\t\"x_in116\"\t\"x_in117\"\t\"x_in118\"\t\"x_in119\"\t\"x_in120\"\t\"x_in121\"\t\"x_in122\"\t\"x_in123\"\t\"x_in124\"\t\"x_in125\"\t\"x_in126\"\t\"x_in127\"\t\"x_in128\"\t\"x_in129\"\t\"x_in130\"\t\"x_in131\"\t\"x_in132\"\t\"x_in133\"\t\"x_in134\"\t\"x_in135\"\t\"x_in136\"\t\"x_in137\"\t\"x_in138\"\t\"x_in139\"\t\"x_in140\"\t\"x_in141\"\t\"x_in142\"\t\"x_in143\"\t\"x_in144\"\t\"x_in145\"\t\"x_in146\"\t\"x_in147\"\t\"x_in148\"\t\"x_in149\"\t\"x_in150\"\t\"x_in151\"\t\"x_in152\"\t\"x_in153\"\t\"x_in154\"\t\"x_in155\"\t\"x_in156\"\t\"x_in157\"\t\"x_in158\"\t\"x_in159\"\t\"x_in160\"\t\"x_in161\"\t\"x_in162\"\t\"x_in163\"\t\"x_in164\"\t\"x_in165\"\t\"x_in166\"\t\"x_in167\"\t\"x_in168\"\t\"x_in169\"\t\"x_in170\"\t\"x_in171\"\t\"x_in172\"\t\"x_in173\"\t\"x_in174\"\t\"x_in175\"\t\"x_in176\"\t\"x_in177\"\t\"x_in178\"\t\"x_in179\"\t\"x_in180\"\t\"x_in181\"\t\"x_in182\"\t\"x_in183\"\t\"x_in184\"\t\"x_in185\"\t\"x_in186\"\t\"x_in187\"\t\"x_in188\"\t\"x_in189\"\t\"x_in190\"\t\"x_in191\"\t\"x_in192\"\t\"x_in193\"\t\"x_in194\"\t\"x_in195\"\t\"x_in196\"\t\"x_in197\"\t\"x_in198\"\t\"x_in199\"\t\"x_in200\"\t\"x_in201\"\t\"x_in202\"\t\"x_in203\"\t\"x_in204\"\t\"x_in205\"\t\"x_in206\"\t\"x_in207\"\t\"x_in208\"\t\"x_in209\"\t\"x_in210\"\t\"x_in211\"\t\"x_in212\"\t\"x_in213\"\t\"x_in214\"\t\"x_in215\"\t\"x_in216\"\t\"x_in217\"\t\"x_in218\"\t\"x_in219\"\t\"x_in220\"\t\"x_in221\"\t\"x_in222\"\t\"x_in223\"\t\"x_in224\"\t\"x_in225\"\t\"x_in226\"\t\"x_in227\"\t\"x_in228\"\t\"x_in229\"\t\"x_in230\"\t\"x_in231\"\t\"x_in232\"\t\"x_in233\"\t\"x_in234\"\t\"x_in235\"\t\"x_in236\"\t\"x_in237\"\t\"x_in238\"\t\"x_in239\"\t\"x_in240\"\t\"x_in241\"\t\"x_in242\"\t\"x_in243\"\t\"x_in244\"\t\"x_in245\"\t\"x_in246\"\t\"x_in247\"\t\"x_in248\"\t\"x_in249\"\t\"x_in250\"\t\"x_in251\"\t\"x_in252\"\t\"x_in253\"\t\"x_in254\"\t\"x_in255\"\t\"x_in256\"\t\"x_in257\"\t\"x_in258\"\t\"x_in259\"\t\"x_in260\"\t\"x_in261\"\t\"x_in262\"\t\"x_in263\"\t\"x_in264\"\t\"x_in265\"\t\"x_in266\"\t\"x_in267\"\t\"x_in268\"\t\"x_in269\"\t\"x_in270\"\t\"x_in271\"\t\"x_in272\"\t\"x_in273\"\t\"x_in274\"\t\"x_in275\"\t\"x_in276\"\t\"x_in277\"\t\"x_in278\"\t\"x_in279\"\t\"x_in280\"\t\"x_in281\"\t\"x_in282\"\t\"x_in283\"\t\"x_in284\"\t\"x_in285\"\t\"x_in286\"\t\"x_in287\"\t\"x_in288\"\t\"x_in289\"\t\"x_in290\"\t\"x_in291\"\t\"x_in292\"\t\"x_in293\"\t\"x_in294\"\t\"x_in295\"\t\"x_in296\"\t\"x_in297\"\t\"x_in298\"\t\"x_in299\"\t\"x_in300\"\t\"x_in301\"\t\"x_in302\"\t\"x_in303\"\t\"x_in304\"\t\"x_in305\"\t\"x_in306\"\t\"x_in307\"\t\"x_in308\"\t\"x_in309\"\t\"x_in310\"\t\"x_in311\"\t\"x_in312\"\t\"x_in313\"\t\"x_in314\"\t\"x_in315\"\t\"x_in316\"\t\"x_in317\"\t\"x_in318\"\t\"x_in319\"\t\"x_in320\"\t\"x_in321\"\t\"x_in322\"\t\"x_in323\"\t\"x_in324\"\t\"x_in325\"\t\"x_in326\"\t\"x_in327\"\t\"x_in328\"\t\"x_in329\"\t\"x_in330\"\t\"x_in331\"\t\"x_in332\"\t\"x_in333\"\t\"x_in334\"\t\"x_in335\"\t\"x_in336\"\t\"x_in337\"\t\"x_in338\"\t\"x_in339\"\t\"x_in340\"\t\"x_in341\"\t\"x_in342\"\t\"x_in343\"\t\"x_in344\"\t\"x_in345\"\t\"x_in346\"\t\"x_in347\"\t\"x_in348\"\t\"x_in349\"\t\"x_in350\"\t\"x_in351\"\t\"x_in352\"\t\"x_in353\"\t\"x_in354\"\t\"x_in355\"\t\"x_in356\"\t\"x_in357\"\t\"x_in358\"\t\"x_in359\"\t\"x_in360\"\t\"x_in361\"\t\"x_in362\"\t\"x_in363\"\t\"x_in364\"\t\"x_in365\"\t\"x_in366\"\t\"x_in367\"\t\"x_in368\"\t\"x_in369\"\t\"x_in370\"\t\"x_in371\"\t\"x_in372\"\t\"x_in373\"\t\"x_in374\"\t\"x_in375\"\t\"x_in376\"\t\"x_in377\"\t\"x_in378\"\t\"x_in379\"\t\"x_in380\"\t\"x_in381\"\t\"x_in382\"\t\"x_in383\"\t\"x_in384\"\t\"x_in385\"\t\"x_in386\"\t\"x_in387\"\t\"x_in388\"\t\"x_in389\"\t\"x_in390\"\t\"x_in391\"\t\"x_in392\"\t\"x_in393\"\t\"x_in394\"\t\"x_in395\"\t\"x_in396\"\t\"x_in397\"\t\"x_in398\"\t\"x_in399\"\t\"x_in400\"\t\"x_in401\"\t\"x_in402\"\t\"x_in403\"\t\"x_in404\"\t\"x_in405\"\t\"x_in406\"\t\"x_in407\"\t\"x_in408\"\t\"x_in409\"\t\"x_in410\"\t\"x_in411\"\t\"x_in412\"\t\"x_in413\"\t\"x_in414\"\t\"x_in415\"\t\"x_in416\"\t\"x_in417\"\t\"x_in418\"\t\"x_in419\"\t\"x_in420\"\t\"x_in421\"\t\"x_in422\"\t\"x_in423\"\t\"x_in424\"\t\"x_in425\"\t\"x_in426\"\t\"x_in427\"\t\"x_in428\"\t\"x_in429\"\t\"x_in430\"\t\"x_in431\"\t\"x_in432\"\t\"x_in433\"\t\"x_in434\"\t\"x_in435\"\t\"x_in436\"\t\"x_in437\"\t\"x_in438\"\t\"x_in439\"\t\"x_in440\"\t\"x_in441\"\t\"x_in442\"\t\"x_in443\"\t\"x_in444\"\t\"x_in445\"\t\"x_in446\"\t\"x_in447\"\t\"x_in448\"\t\"x_in449\"\t\"x_in450\"\t\"x_in451\"\t\"x_in452\"\t\"x_in453\"\t\"x_in454\"\t\"x_in455\"\t\"x_in456\"\t\"x_in457\"\t\"x_in458\"\t\"x_in459\"\t\"x_in460\"\t\"x_in461\"\t\"x_in462\"\t\"x_in463\"\t\"x_in464\"\t\"x_in465\"\t\"x_in466\"\t\"x_in467\"\t\"x_in468\"\t\"x_in469\"\t\"x_in470\"\t\"x_in471\"\t\"x_in472\"\t\"x_in473\"\t\"x_in474\"\t\"x_in475\"\t\"x_in476\"\t\"x_in477\"\t\"x_in478\"\t\"x_in479\"\t\"x_in480\"\t\"x_in481\"\t\"x_in482\"\t\"x_in483\"\t\"x_in484\"\t\"x_in485\"\t\"x_in486\"\t\"x_in487\"\t\"x_in488\"\t\"x_in489\"\t\"x_in490\"\t\"x_in491\"\t\"x_in492\"\t\"x_in493\"\t\"x_in494\"\t\"x_in495\"\t\"x_in496\"\t\"x_in497\"\t\"x_in498\"\t\"x_in499\"\t\"x_in500\"\t\"x_in501\"\t\"x_in502\"\t\"x_in503\"\t\"x_in504\"\t\"x_in505\"\t\"x_in506\"\t\"x_in507\"\t\"x_in508\"\t\"x_in509\"\t\"x_in510\"\t\"x_in511\"\t\"x_in512\"\t\"x_in513\"\t\"x_in514\"\t\"x_in515\"\t\"x_in516\"\t\"x_in517\"\t\"x_in518\"\t\"x_in519\"\t\"x_in520\"\t\"x_in521\"\t\"x_in522\"\t\"x_in523\"\t\"x_in524\"\t\"x_in525\"\t\"x_in526\"\t\"x_in527\"\t\"x_in528\"\t\"x_in529\"\t\"x_in530\"\t\"x_in531\"\t\"x_in532\"\t\"x_in533\"\t\"x_in534\"\t\"x_in535\"\t\"x_in536\"\t\"x_in537\"\t\"x_in538\"\t\"x_in539\"\t\"x_in540\"\t\"x_in541\"\t\"x_in542\"\t\"x_in543\"\t\"x_in544\"\t\"x_in545\"\t\"x_in546\"\t\"x_in547\"\t\"x_in548\"\t\"x_in549\"\t\"x_in550\"\t\"x_in551\"\t\"x_in552\"\t\"x_in553\"\t\"x_in554\"\t\"x_in555\"\t\"x_in556\"\t\"x_in557\"\t\"x_in558\"\t\"x_in559\"\t\"x_in560\"\t\"x_in561\"\t\"x_in562\"\t\"x_in563\"\t\"x_in564\"\t\"x_in565\"\t\"x_in566\"\t\"x_in567\"\t\"x_in568\"\t\"x_in569\"\t\"x_in570\"\t\"x_in571\"\t\"x_in572\"\t\"x_in573\"\t\"x_in574\"\t\"x_in575\"\t\"x_in576\"\t\"x_in577\"\t\"x_in578\"\t\"x_in579\"\t\"x_in580\"\t\"x_in581\"\t\"x_in582\"\t\"x_in583\"\t\"x_in584\"\t\"x_in585\"\t\"x_in586\"\t\"x_in587\"\t\"x_in588\"\t\"x_in589\"\t\"x_in590\"\t\"x_in591\"\t\"x_in592\"\t\"x_in593\"\t\"x_in594\"\t\"x_in595\"\t\"x_in596\"\t\"x_in597\"\t\"x_in598\"\t\"x_in599\"\t\"x_in600\"\t\"x_in601\"\t\"x_in602\"\t\"x_in603\"\t\"x_in604\"\t\"x_in605\"\t\"x_in606\"\t\"x_in607\"\t\"x_in608\"\t\"x_in609\"\t\"x_in610\"\t\"x_in611\"\t\"x_in612\"\t\"x_in613\"\t\"x_in614\"\t\"x_in615\"\t\"x_in616\"\t\"x_in617\"\t\"x_in618\"\t\"x_in619\"\t\"x_in620\"\t\"x_in621\"\t\"x_in622\"\t\"x_in623\"\t\"x_in624\"\t\"x_in625\"\t\"x_in626\"\t\"x_in627\"\t\"x_in628\"\t\"x_in629\"\t\"x_in630\"\t\"x_in631\"\t\"x_in632\"\t\"x_in633\"\t\"x_in634\"\t\"x_in635\"\t\"x_in636\"\t\"x_in637\"\t\"x_in638\"\t\"x_in639\"\t\"x_in640\"\t\"x_in641\"\t\"x_in642\"\t\"x_in643\"\t\"x_in644\"\t\"x_in645\"\t\"x_in646\"\t\"x_in647\"\t\"x_in648\"\t\"x_in649\"\t\"x_in650\"\t\"x_in651\"\t\"x_in652\"\t\"x_in653\"\t\"x_in654\"\t\"x_in655\"\t\"x_in656\"\t\"x_in657\"\t\"x_in658\"\t\"x_in659\"\t\"x_in660\"\t\"x_in661\"\t\"x_in662\"\t\"x_in663\"\t\"x_in664\"\t\"x_in665\"\t\"x_in666\"\t\"x_in667\"\t\"x_in668\"\t\"x_in669\"\t\"x_in670\"\t\"x_in671\"\t\"x_in672\"\t\"x_in673\"\t\"x_in674\"\t\"x_in675\"\t\"x_in676\"\t\"x_in677\"\t\"x_in678\"\t\"x_in679\"\t\"x_in680\"\t\"x_in681\"\t\"x_in682\"\t\"x_in683\"\t\"x_in684\"\t\"x_in685\"\t\"x_in686\"\t\"x_in687\"\t\"x_in688\"\t\"x_in689\"\t\"x_in690\"\t\"x_in691\"\t\"x_in692\"\t\"x_in693\"\t\"x_in694\"\t\"x_in695\"\t\"x_in696\"\t\"x_in697\"\t\"x_in698\"\t\"x_in699\"\t\"x_in700\"\t\"x_in701\"\t\"x_in702\"\t\"x_in703\"\t\"x_in704\"\t\"x_in705\"\t\"x_in706\"\t\"x_in707\"\t\"x_in708\"\t\"x_in709\"\t\"x_in710\"\t\"x_in711\"\t\"x_in712\"\t\"x_in713\"\t\"x_in714\"\t\"x_in715\"\t\"x_in716\"\t\"x_in717\"\t\"x_in718\"\t\"x_in719\"\t\"x_in720\"\t\"x_in721\"\t\"x_in722\"\t\"x_in723\"\t\"x_in724\"\t\"x_in725\"\t\"x_in726\"\t\"x_in727\"\t\"x_in728\"\t\"x_in729\"\t\"x_in730\"\t\"x_in731\"\t\"x_in732\"\t\"x_in733\"\t\"x_in734\"\t\"x_in735\"\t\"x_in736\"\t\"x_in737\"\t\"x_in738\"\t\"x_in739\"\t\"x_in740\"\t\"x_in741\"\t\"x_in742\"\t\"x_in743\"\t\"x_in744\"\t\"x_in745\"\t\"x_in746\"\t\"x_in747\"\t\"x_in748\"\t\"x_in749\"\t\"x_in750\"\t\"x_in751\"\t\"x_in752\"\t\"x_in753\"\t\"x_in754\"\t\"x_in755\"\t\"x_in756\"\t\"x_in757\"\t\"x_in758\"\t\"x_in759\"\t\"x_in760\"\t\"x_in761\"\t\"x_in762\"\t\"x_in763\"\t\"x_in764\"\t\"x_in765\"\t\"x_in766\"\t\"x_in767\"\t\"x_in768\"\t\"x_in769\"\t\"x_in770\"\t\"x_in771\"\t\"x_in772\"\t\"x_in773\"\t\"x_in774\"\t\"x_in775\"\t\"x_in776\"\t\"x_in777\"\t\"x_in778\"\t\"x_in779\"\t\"x_in780\"\t\"x_in781\"\t\"x_in782\"\t\"x_in783\"\t\"x_in784\"\n",
    "In_names = In_names.replace('x',' x')\n",
    "In_names2 = In_names.split(' ')\n",
    "In_names2.remove('')"
   ]
  },
  {
   "cell_type": "code",
   "execution_count": 4,
   "metadata": {},
   "outputs": [],
   "source": [
    "# desired image size, h x w\n",
    "h = 22\n",
    "w = 24\n",
    "In_names2 = In_names2[:h*w]"
   ]
  },
  {
   "cell_type": "code",
   "execution_count": 5,
   "metadata": {},
   "outputs": [],
   "source": [
    "th = 128\n",
    "binarize = True"
   ]
  },
  {
   "cell_type": "code",
   "execution_count": 6,
   "metadata": {},
   "outputs": [],
   "source": [
    "#desired number of training images\n",
    "numXtrain = 60000\n",
    "#desired number of testing images\n",
    "numXtest = 10000"
   ]
  },
  {
   "cell_type": "code",
   "execution_count": 7,
   "metadata": {},
   "outputs": [],
   "source": [
    "def resize(mnist):\n",
    "    train_data = []\n",
    "    for img in mnist:\n",
    "        resized_img = cv2.resize(img, (h, w))\n",
    "        train_data.append(resized_img)\n",
    "    return train_data"
   ]
  },
  {
   "cell_type": "code",
   "execution_count": 8,
   "metadata": {},
   "outputs": [],
   "source": [
    "Xtrain = np.array(resize(X_train[:numXtrain]))\n",
    "if binarize:\n",
    "    Xtrain = (Xtrain > th)*1\n",
    "Xtrain = Xtrain.reshape((numXtrain,h*w,1))\n",
    "\n",
    "Xtest = np.array(resize(X_test[:numXtest]))\n",
    "if binarize:\n",
    "    Xtest = (Xtest > th)*1\n",
    "Xtest = Xtest.reshape((numXtest,h*w,1))"
   ]
  },
  {
   "cell_type": "code",
   "execution_count": 9,
   "metadata": {},
   "outputs": [],
   "source": [
    "In = {}\n",
    "for i in In_names2:\n",
    "    In[i] = []\n",
    "lst = []\n",
    "for ex in Xtrain:\n",
    "    for pxl,xin in zip(ex,In):       \n",
    "        lst = In[xin]\n",
    "        lst.append(pxl)\n",
    "        In[xin] = lst"
   ]
  },
  {
   "cell_type": "code",
   "execution_count": 10,
   "metadata": {},
   "outputs": [],
   "source": [
    "for eg in range(len(Xtrain)):\n",
    "    imtst = []\n",
    "    for i in In:\n",
    "        imtst.append(list(In[i][eg]))\n",
    "    imtst = np.array(imtst)  \n",
    "    if(imtst.all()!=Xtrain[eg].all()):\n",
    "        print(\"Error!\")"
   ]
  },
  {
   "cell_type": "code",
   "execution_count": 11,
   "metadata": {},
   "outputs": [
    {
     "data": {
      "image/png": "[encoded data removed]",
      "text/plain": [
       "<Figure size 432x288 with 1 Axes>"
      ]
     },
     "metadata": {
      "needs_background": "light"
     },
     "output_type": "display_data"
    }
   ],
   "source": [
    "imtst = []\n",
    "sample_num = random.randint(0,numXtrain)\n",
    "for i in In:\n",
    "    imtst.append(list(In[i][sample_num]))\n",
    "imtst = np.array(imtst)   \n",
    "plt.imshow(imtst.reshape(w,h))\n",
    "plt.show()"
   ]
  },
  {
   "cell_type": "code",
   "execution_count": 12,
   "metadata": {},
   "outputs": [],
   "source": [
    "summ = []\n",
    "for eg in range(len(In)):\n",
    "    ipt = In[In_names2[eg]]\n",
    "    ipt = np.array(ipt)\n",
    "    ipt = np.transpose(ipt)\n",
    "    summ.append(np.sum(ipt))\n",
    "    np.savetxt(\"Desktop/Driverfiles/Xtrain/\"+In_names2[eg]+\".txt\",ipt, delimiter='',fmt='%0.d')"
   ]
  },
  {
   "cell_type": "code",
   "execution_count": 13,
   "metadata": {},
   "outputs": [],
   "source": [
    "In = {}\n",
    "for i in In_names2:\n",
    "    In[i] = []\n",
    "lst = []\n",
    "for ex in Xtest:\n",
    "    for pxl,xin in zip(ex,In):       \n",
    "        lst = In[xin]\n",
    "        lst.append(pxl)\n",
    "        In[xin] = lst"
   ]
  },
  {
   "cell_type": "code",
   "execution_count": 14,
   "metadata": {},
   "outputs": [],
   "source": [
    "for eg in range(len(Xtest)):\n",
    "    imtst = []\n",
    "    for i in In:\n",
    "        imtst.append(list(In[i][eg]))\n",
    "    imtst = np.array(imtst)  \n",
    "    if(imtst.all()!=Xtest[eg].all()):\n",
    "        print(\"Error!\")"
   ]
  },
  {
   "cell_type": "code",
   "execution_count": 15,
   "metadata": {},
   "outputs": [
    {
     "data": {
      "image/png": "[encoded data removed]",
      "text/plain": [
       "<Figure size 432x288 with 1 Axes>"
      ]
     },
     "metadata": {
      "needs_background": "light"
     },
     "output_type": "display_data"
    }
   ],
   "source": [
    "imtst = []\n",
    "sample_num = random.randint(0,numXtest)\n",
    "for i in In:\n",
    "    imtst.append(list(In[i][sample_num]))\n",
    "imtst = np.array(imtst)   \n",
    "plt.imshow(imtst.reshape(w,h))\n",
    "plt.show()"
   ]
  },
  {
   "cell_type": "code",
   "execution_count": 16,
   "metadata": {},
   "outputs": [],
   "source": [
    "summ = []\n",
    "for eg in range(len(In)):\n",
    "    ipt = In[In_names2[eg]]\n",
    "    ipt = np.array(ipt)\n",
    "    ipt = np.transpose(ipt)\n",
    "    summ.append(np.sum(ipt))\n",
    "    np.savetxt(\"Desktop/Driverfiles/Xtest/\"+In_names2[eg]+\".txt\",ipt, delimiter='',fmt='%0.d')"
   ]
  },
  {
   "cell_type": "code",
   "execution_count": null,
   "metadata": {},
   "outputs": [],
   "source": []
  }
 ],
 "metadata": {
  "kernelspec": {
   "display_name": "Python 3",
   "language": "python",
   "name": "python3"
  },
  "language_info": {
   "codemirror_mode": {
    "name": "ipython",
    "version": 3
   },
   "file_extension": ".py",
   "mimetype": "text/x-python",
   "name": "python",
   "nbconvert_exporter": "python",
   "pygments_lexer": "ipython3",
   "version": "3.7.7"
  }
 },
 "nbformat": 4,
 "nbformat_minor": 4
}
